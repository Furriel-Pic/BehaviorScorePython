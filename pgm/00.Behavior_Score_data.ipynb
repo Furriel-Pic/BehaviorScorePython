{
 "cells": [
  {
   "cell_type": "code",
   "execution_count": null,
   "metadata": {},
   "outputs": [],
   "source": [
    "#!pip install -U imblearn \n",
    "#!pip install -U Texttable\n",
    "#!pip install -U tabulate\n",
    "#!pip install -U imgkit\n",
    "\n",
    "import pandas as pd\n",
    "import numpy  as np\n",
    "\n",
    "import plotly.express as px\n",
    "import plotly.graph_objects as go\n",
    "import matplotlib.pyplot as plt\n",
    "from sklearn.linear_model import LinearRegression\n",
    "import statsmodels.api as sm\n",
    "from tabulate import tabulate\n",
    "from texttable import Texttable\n",
    "\n",
    "from plotly.subplots import make_subplots\n",
    "\n",
    "import os"
   ]
  },
  {
   "cell_type": "markdown",
   "metadata": {},
   "source": [
    "---\n",
    "\n",
    "<center><strong><font color = \"darkblue\" size=4> Importação e visualização dos dados</font></strong></center>\n",
    "\n",
    "---"
   ]
  },
  {
   "cell_type": "code",
   "execution_count": null,
   "metadata": {
    "scrolled": true
   },
   "outputs": [],
   "source": [
    "base = pd.read_csv(\"C:/Users/jaque/Desktop/Behavior Score/Bases/GiveMeSomeCredit/cs-training.csv\", sep = \",\")\n",
    "base.columns"
   ]
  },
  {
   "cell_type": "code",
   "execution_count": null,
   "metadata": {},
   "outputs": [],
   "source": [
    "# Renomeando \n",
    "base.columns = [\"Id\", \"Perf_final\",\n",
    "       \"UltPercLimit\", \"Idade\",\n",
    "       \"N_Atraso30_59Dias\", \"RazaoGastos\", \"RendaMensal\",\n",
    "       \"N_EmeprestimosAbertos\", \"N_atrasos_Ult90Dias\",\n",
    "       \"N_emprestimos\", \"N_Atraso60_89Dias\",\n",
    "       \"N_dependentes\"]"
   ]
  },
  {
   "cell_type": "code",
   "execution_count": null,
   "metadata": {},
   "outputs": [],
   "source": [
    "base.dtypes"
   ]
  },
  {
   "cell_type": "code",
   "execution_count": null,
   "metadata": {},
   "outputs": [],
   "source": [
    "# Realizando uma amostra de 60% da base\n",
    "base1 = base.sample(frac=0.6, replace=False, random_state=1)\n",
    "base1"
   ]
  },
  {
   "cell_type": "code",
   "execution_count": null,
   "metadata": {},
   "outputs": [],
   "source": [
    "# Verificando os percentis e salvando a tabela\n",
    "base.quantile([0.1,0.5,0.8,0.85,0.9,0.95,0.99,0.99,1])\n"
   ]
  },
  {
   "cell_type": "code",
   "execution_count": null,
   "metadata": {
    "scrolled": true
   },
   "outputs": [],
   "source": [
    "P99  = base.quantile([0.99])\n",
    "\n",
    "print(\"\\n\",\n",
    "      \"UltPercLimit:\",          P99.iloc[0,2],\"\\n\",\n",
    "      \"Idade:\",                 P99.iloc[0,3],\"\\n\",\n",
    "      \"N_Atraso30_59Dias:\",     P99.iloc[0,4],\"\\n\",\n",
    "      \"RazaoGastos:\",           P99.iloc[0,5],\"\\n\",\n",
    "      \"RendaMensal:\",           P99.iloc[0,6],\"\\n\",\n",
    "      \n",
    "      \"N_EmeprestimosAbertos:\", P99.iloc[0,7],\"\\n\",      \n",
    "      \"N_atrasos_Ult90Dias:\",   P99.iloc[0,8],\"\\n\",     \n",
    "      \"N_emprestimos:\",         P99.iloc[0,9],\"\\n\",\n",
    "      \n",
    "      \"N_Atraso60_89Dias:\",     P99.iloc[0,10],\"\\n\",\n",
    "      \"N_dependentes:\",         P99.iloc[0,11],\"\\n\"\n",
    "      \n",
    "     )"
   ]
  },
  {
   "cell_type": "code",
   "execution_count": null,
   "metadata": {
    "scrolled": false
   },
   "outputs": [],
   "source": [
    "# Retornando Outliers da base amostradaa\n",
    "for i in range(2,12):\n",
    "    print(i)    \n",
    "    base1.iloc[:,i][base1.iloc[:,i] >  P99.iloc[0,i]] = P99.iloc[0,i]\n",
    "\n",
    "base1.quantile([0.1,0.5,0.8,0.85,0.9,0.95,0.99,0.99,1])"
   ]
  },
  {
   "cell_type": "code",
   "execution_count": null,
   "metadata": {},
   "outputs": [],
   "source": [
    "# Manipulações iniciais \n",
    "\n",
    "# Se o individuo nunca fez um emprestimo vamos considerá-lo como duvidoso, pois não sabemos seu comportamento\n",
    "\n",
    "base1[\"N_emprestimos\"][base1[\"N_emprestimos\"] == 0 ] = 5\n",
    "\n",
    "\n",
    "# Suavizando a distribuição\n",
    "base1[\"lnRazaoGastos\"]   = np.log(base1[\"RazaoGastos\"]+0.1)\n",
    "base1[\"SqrtRazaoGastos\"] = np.sqrt(base1[\"RazaoGastos\"])\n",
    "base1[\"lnRazaoGastos\"]\n",
    "base1[\"SqrtRazaoGastos\"]\n",
    "\n",
    "# Histogramas das transformações\n",
    "\n",
    "transf_hist1 = make_subplots(rows=1, cols=2)\n",
    "\n",
    "trace0 = go.Histogram(x = base1[\"lnRazaoGastos\"]          , name = \"lnRazaoGastos atual\")\n",
    "trace1 = go.Histogram(x = base1[\"SqrtRazaoGastos\"]        , name = \"SqrtRazaoGastos\")\n",
    "\n",
    "transf_hist1.append_trace(trace0, 1, 1)\n",
    "transf_hist1.append_trace(trace1, 1, 2)\n",
    "\n",
    "transf_hist1.show()"
   ]
  },
  {
   "cell_type": "code",
   "execution_count": null,
   "metadata": {},
   "outputs": [],
   "source": [
    "base1[[\"lnRazaoGastos\",\"SqrtRazaoGastos\",\"RazaoGastos\"]].quantile([0,0.1,0.5,0.8,0.85,0.9,0.95,0.99,0.99,1])"
   ]
  },
  {
   "cell_type": "code",
   "execution_count": null,
   "metadata": {},
   "outputs": [],
   "source": [
    "# Frequência da var target\n",
    "tab1  = pd.crosstab(index = base1[\"Perf_final\"], columns = [\"count\"]) \n",
    "tab1[\"percent\"] = round((tab1/tab1.sum())*100,1)\n",
    "tab1 = tab1.reset_index()\n",
    "tab1"
   ]
  },
  {
   "cell_type": "code",
   "execution_count": null,
   "metadata": {
    "scrolled": false
   },
   "outputs": [],
   "source": [
    "# Gráfico de barras\n",
    "fig = go.Figure(data = [go.Pie(labels = [\"Bom\",\"Mau\"], values = tab1[\"percent\"], hole = .5)],\n",
    "               layout=dict(title=dict(text=\"Distribuição da variável Target\")))\n",
    "\n",
    "fig.update_traces(hoverinfo = \"label+percent\", textinfo = \"value\", textfont_size = 20,\n",
    "                  marker = dict(line = dict(color = \"#ffffff\",  width = 2)))\n",
    "fig.show()\n"
   ]
  },
  {
   "cell_type": "code",
   "execution_count": null,
   "metadata": {},
   "outputs": [],
   "source": [
    "# Histogramas\n",
    "\n",
    "keep = [2,3,4,6,7,8,9,10,11,12]\n",
    "base1.iloc[:,keep]\n",
    "\n",
    "trace = {}\n",
    "\n",
    "fig_hist1 = make_subplots(rows=3, cols=4,\n",
    "           subplot_titles = base1.columns[keep])\n",
    "\n",
    "for k in keep:\n",
    "   \n",
    "    trace[k,0] =  go.Histogram(x = base1.iloc[:,k] , marker_color = \"#0066cc\")\n",
    "    \n",
    "fig_hist1.append_trace(trace[2,0],  1, 1)\n",
    "fig_hist1.append_trace(trace[3,0],  1, 2)\n",
    "fig_hist1.append_trace(trace[4,0],  1, 3)\n",
    "fig_hist1.append_trace(trace[6,0],  1, 4)\n",
    "fig_hist1.append_trace(trace[7,0],  2, 1)\n",
    "fig_hist1.append_trace(trace[8,0],  2, 2)\n",
    "fig_hist1.append_trace(trace[9,0],  2, 3)\n",
    "fig_hist1.append_trace(trace[10,0], 2, 4)\n",
    "fig_hist1.append_trace(trace[11,0], 3, 1)\n",
    "fig_hist1.append_trace(trace[12,0], 3, 2)\n",
    "fig_hist1.append_trace(trace[12,0], 3, 2)\n",
    "\n",
    "fig_hist1.update_layout(height = 600, width = 1000, title = \"Distribuição das variáveis preditoras\", showlegend = False)\n",
    "\n",
    "fig_hist1.show()\n"
   ]
  },
  {
   "cell_type": "code",
   "execution_count": null,
   "metadata": {},
   "outputs": [],
   "source": [
    "# Boxplot\n",
    "trace = {}\n",
    "\n",
    "fig_box1 = make_subplots(rows=3, cols=4,\n",
    "           subplot_titles = base1.columns[keep])\n",
    "\n",
    "for k in keep:\n",
    "   \n",
    "    trace[k,0] =  go.Box(y = base1.iloc[:,k], x = base1[\"Perf_final\"] , marker_color = \"#0099cc\")\n",
    "    \n",
    "fig_box1.append_trace(trace[2,0],  1, 1)\n",
    "fig_box1.append_trace(trace[3,0],  1, 2)\n",
    "fig_box1.append_trace(trace[4,0],  1, 3)\n",
    "fig_box1.append_trace(trace[6,0],  1, 4)\n",
    "fig_box1.append_trace(trace[7,0],  2, 1)\n",
    "fig_box1.append_trace(trace[8,0],  2, 2)\n",
    "fig_box1.append_trace(trace[9,0],  2, 3)\n",
    "fig_box1.append_trace(trace[10,0], 2, 4)\n",
    "fig_box1.append_trace(trace[11,0], 3, 1)\n",
    "fig_box1.append_trace(trace[12,0], 3, 2)\n",
    "\n",
    "fig_box1.update_layout(height = 600, width = 1000, \n",
    "                       title = \"BoxPlot das variáveis preditoras segundo a target\", showlegend = False)\n",
    "fig_box1.show()    \n",
    "    "
   ]
  },
  {
   "cell_type": "code",
   "execution_count": null,
   "metadata": {
    "scrolled": false
   },
   "outputs": [],
   "source": [
    "# Matriz de correlação pearson\n",
    "labels = [\"UltPercLimit\", \"Idade\",\n",
    "          \"N_Atraso30_59Dias\", \"RazaoGastos\", \"RendaMensal\",\n",
    "          \"N_EmeprestimosAbertos\", \"N_atrasos_Ult90Dias\",\n",
    "          \"N_emprestimos\", \"N_Atraso60_89Dias\",\n",
    "          \"N_dependentes\"]\n",
    "\n",
    "cor_matrix = base1.iloc[:,2:12].corr(method=\"pearson\")\n",
    "\n",
    "fig_cor = go.Figure(data=go.Heatmap(\n",
    "                   z = cor_matrix,\n",
    "                   x = labels,\n",
    "                   y = labels,\n",
    "                   hoverongaps = False))\n",
    "\n",
    "fig_cor.show()"
   ]
  },
  {
   "cell_type": "code",
   "execution_count": null,
   "metadata": {},
   "outputs": [],
   "source": [
    "# Matriz de correlação spearman\n",
    "cor_matrix1 = base1.iloc[:,2:12].corr(method=\"spearman\")\n",
    "cor_matrix1\n",
    "fig_cor1 = go.Figure(data=go.Heatmap(\n",
    "                   z = cor_matrix,\n",
    "                   x = labels,\n",
    "                   y = labels,\n",
    "                   hoverongaps = False))\n",
    "fig_cor1.update_layout(title = \"Correlação entre as preditoras\")\n",
    "fig_cor1.show()"
   ]
  },
  {
   "cell_type": "markdown",
   "metadata": {},
   "source": [
    "---\n",
    "\n",
    "<center><strong><font color = \"darkblue\" size=4> Categorizando e criando WOE</font></strong></center>\n",
    "\n",
    "---"
   ]
  },
  {
   "cell_type": "code",
   "execution_count": null,
   "metadata": {},
   "outputs": [],
   "source": [
    "# Função para avaliar Categorização\n",
    "def resumo_CAT(k):\n",
    "    tab3  = pd.crosstab(index = base1[\"CAT_\"+base1.columns[k]], columns = [\"count\"]) \n",
    "    tab3[\"percent\"] = (tab3/tab3.sum())*100\n",
    "    # Reorganizando o index a partir de 0 para juntar com as bases seguintes\n",
    "    tab3.index = np.arange(0,len(tab3))\n",
    "    # Calculando média e desvio por categoria\n",
    "    media  = base1.groupby([\"CAT_\"+base1.columns[k]])[base1.columns[k]].mean().reset_index()\n",
    "    var    = base1.groupby([\"CAT_\"+base1.columns[k]])[base1.columns[k]].std().reset_index()\n",
    "    minimo = base1.groupby([\"CAT_\"+base1.columns[k]])[base1.columns[k]].min().reset_index()\n",
    "    maximo = base1.groupby([\"CAT_\"+base1.columns[k]])[base1.columns[k]].max().reset_index()\n",
    "    media[\"Std\"] = var.iloc[:,1]\n",
    "    media[\"Min\"] = minimo.iloc[:,1]\n",
    "    media[\"Max\"] = maximo.iloc[:,1]\n",
    "    media.columns.values[1] = \"Media\"\n",
    "    media[\"Percent\"] = tab3[\"percent\"]\n",
    "    return(media)"
   ]
  },
  {
   "cell_type": "code",
   "execution_count": null,
   "metadata": {},
   "outputs": [],
   "source": [
    "n = [2,3,5,7,12]\n",
    "for j in n:\n",
    "    group_names = [1,2,3,4,5]\n",
    "    base1[\"CAT_\"+base1.columns[j]] = pd.qcut(base1.iloc[:,j], 5, labels = group_names)\n",
    "    print(j)\n",
    "    print(tabulate(resumo_CAT(j), headers=\"keys\"))"
   ]
  },
  {
   "cell_type": "code",
   "execution_count": null,
   "metadata": {},
   "outputs": [],
   "source": [
    "# Função para calculo do WOE\n",
    "# https://towardsdatascience.com/attribute-relevance-analysis-in-python-iv-and-woe-b5651443fc04\n",
    "\n",
    "def calcular_woe_iv(dataset, feature, target):\n",
    "    lst = []\n",
    "    for i in range(dataset[feature].nunique()):\n",
    "        val = list(dataset[feature].unique())[i]\n",
    "        lst.append({\n",
    "            \"Value\": val,\n",
    "            \"All\": dataset[dataset[feature] == val].count()[feature],\n",
    "            \"Bom\": dataset[(dataset[feature] == val) & (dataset[target] == 0)].count()[feature],\n",
    "            \"Mau\": dataset[(dataset[feature] == val) & (dataset[target] == 1)].count()[feature]\n",
    "        })\n",
    "        \n",
    "    dset = pd.DataFrame(lst)\n",
    "    dset[\"Distr_Bom\"] = dset[\"Bom\"] / dset[\"Bom\"].sum()\n",
    "    dset[\"Distr_Mau\"] = dset[\"Mau\"] / dset[\"Mau\"].sum()\n",
    "    dset[\"WoE\"] = np.log(dset[\"Distr_Bom\"] / dset[\"Distr_Mau\"])\n",
    "    dset = dset.replace({\"WoE\": {np.inf: 0, -np.inf: 0}})\n",
    "    dset[\"IV\"] = (dset[\"Distr_Bom\"] - dset[\"Distr_Mau\"]) * dset[\"WoE\"]\n",
    "    iv = dset[\"IV\"].sum()\n",
    " #   dset = dset.sort_values(by=\"WoE\")\n",
    "    \n",
    "    return dset, iv"
   ]
  },
  {
   "cell_type": "code",
   "execution_count": null,
   "metadata": {
    "scrolled": false
   },
   "outputs": [],
   "source": [
    "variaveis = [\"N_atrasos_Ult90Dias\", \"N_emprestimos\", \"N_Atraso60_89Dias\",\"N_dependentes\",\n",
    "            \"CAT_UltPercLimit\",\"CAT_Idade\", \"CAT_lnRazaoGastos\",\"CAT_N_EmeprestimosAbertos\"]\n",
    "\n",
    "df1 = {}\n",
    "l = 0\n",
    "for col in variaveis:\n",
    "    if col == \t\"Exited\t\": continue\n",
    "    else:\n",
    "        print(\"WoE e IV: {}\".format(col))\n",
    "        df, iv = calcular_woe_iv(base1, col, \"Perf_final\")\n",
    "        df1[l] = df\n",
    "        df1[l][\"nome\"] = \"WOE_\"+col\n",
    "        print(l)\n",
    "        l = l + 1\n",
    "        print(tabulate(df, headers=\"keys\"))\n",
    "        print(\"IV score: {:.2f}\".format(iv))\n",
    "        print(\"\\n\")\n",
    "        i = 0\n",
    "        for i in range(0,len(df)):\n",
    "            base1.loc[base1[col] ==  df.iloc[i,0], \"WOE_\"+col] = df.iloc[i,6]"
   ]
  },
  {
   "cell_type": "code",
   "execution_count": null,
   "metadata": {
    "scrolled": false
   },
   "outputs": [],
   "source": [
    "# WOE E IV plot\n",
    "\n",
    "trace = {}\n",
    "clrs  = {}\n",
    "\n",
    "clrred  = \"#cc0000\"\n",
    "clrblue = \"#2d2d86\"\n",
    "\n",
    "for j in range(0,8):\n",
    "    clrs[j] = [clrred if df1[j][\"WoE\"][x] < 0 else clrblue for x in range(0, len(df1[j]))]\n",
    "\n",
    "nomes = [df1[l][\"nome\"][1] for l in range(0,8)]   \n",
    "fig_WOE = make_subplots(rows=8, cols=2,\n",
    "           subplot_titles=(np.repeat(nomes,2)))\n",
    "\n",
    "for k in range(0,8):\n",
    "   \n",
    "    trace[k,0] = go.Bar(x = df1[k][\"Value\"], y = df1[k][\"WoE\"], marker = dict(color = clrs[k]))\n",
    "                        \n",
    "    trace[k,1] = go.Bar(x = df1[k][\"Value\"], y = df1[k][\"IV\"],  marker = dict(color = \"#2d2d86\"))\n",
    "    \n",
    "    fig_WOE.append_trace(trace[k,0], k+1, 1)\n",
    "    fig_WOE.append_trace(trace[k,1], k+1, 2)\n",
    "    \n",
    "fig_WOE.update_layout(height = 1400, width = 900, showlegend = False,title = \"WOE e IV\")\n",
    "\n",
    "fig_WOE.show()\n"
   ]
  },
  {
   "cell_type": "code",
   "execution_count": null,
   "metadata": {},
   "outputs": [],
   "source": [
    "base1 = base1.dropna()\n",
    "base1.head()"
   ]
  },
  {
   "cell_type": "code",
   "execution_count": null,
   "metadata": {},
   "outputs": [],
   "source": [
    "# Salvando a base\n",
    "\n",
    "#base1.to_csv(r\"C:/Users/jaque/Desktop/Behavior Score/Bases/AmostraBehavior.csv\", header=True, sep = \";\",index = False)"
   ]
  }
 ],
 "metadata": {
  "kernelspec": {
   "display_name": "Python 3",
   "language": "python",
   "name": "python3"
  },
  "language_info": {
   "codemirror_mode": {
    "name": "ipython",
    "version": 3
   },
   "file_extension": ".py",
   "mimetype": "text/x-python",
   "name": "python",
   "nbconvert_exporter": "python",
   "pygments_lexer": "ipython3",
   "version": "3.7.6"
  }
 },
 "nbformat": 4,
 "nbformat_minor": 4
}
